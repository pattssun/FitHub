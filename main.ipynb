{
 "cells": [
  {
   "cell_type": "code",
   "execution_count": 13,
   "metadata": {},
   "outputs": [
    {
     "name": "stderr",
     "output_type": "stream",
     "text": [
      "I0000 00:00:1722406206.810522 6006664 work_stealing_thread_pool.cc:320] WorkStealingThreadPoolImpl::PrepareFork\n"
     ]
    }
   ],
   "source": [
    "!pip install -q -U google-generativeai python-dotenv"
   ]
  },
  {
   "cell_type": "code",
   "execution_count": 15,
   "metadata": {},
   "outputs": [],
   "source": [
    "import google.generativeai as genai\n",
    "from IPython.display import Markdown, Image"
   ]
  },
  {
   "cell_type": "code",
   "execution_count": 24,
   "metadata": {},
   "outputs": [],
   "source": [
    "import os, json\n",
    "from dotenv import load_dotenv\n",
    "\n",
    "load_dotenv()\n",
    "GOOGLE_API_KEY = os.getenv('GOOGLE_API_KEY')\n",
    "\n",
    "genai.configure(api_key=GOOGLE_API_KEY)"
   ]
  },
  {
   "cell_type": "code",
   "execution_count": 69,
   "metadata": {},
   "outputs": [],
   "source": [
    "actual_data = {\n",
    "    \"images/1.png\": {\n",
    "        \"calories\": 357.81,\n",
    "        \"protein\": 20.00,\n",
    "        \"carbs\": 20.96,\n",
    "        \"fat\": 21.69\n",
    "    },\n",
    "    \"images/2.png\": {\n",
    "        \"calories\": 655.99,\n",
    "        \"protein\": 93.24,\n",
    "        \"carbs\": 23.34,\n",
    "        \"fat\": 20.22\n",
    "    },\n",
    "    \"images/3.png\": {\n",
    "        \"calories\": 351.89,\n",
    "        \"protein\": 12.10,\n",
    "        \"carbs\": 57.50,\n",
    "        \"fat\": 9.77\n",
    "    },\n",
    "    \"images/4.png\": {\n",
    "        \"calories\": 184.99,\n",
    "        \"protein\": 24.54,\n",
    "        \"carbs\": 8.90,\n",
    "        \"fat\": 6.14\n",
    "    }\n",
    "}"
   ]
  },
  {
   "cell_type": "code",
   "execution_count": 82,
   "metadata": {},
   "outputs": [],
   "source": [
    "def get_nutrition_info(image_path):\n",
    "    # Upload the file\n",
    "    sample_file = genai.upload_file(path=image_path)\n",
    "\n",
    "    # Run Gemini model\n",
    "    model = genai.GenerativeModel(model_name=\"gemini-1.5-pro\")\n",
    "    prompt = \"\"\"\n",
    "    You are an expert nutritionist with extensive experience in visual food analysis and portion estimation. Your task is to provide the most accurate nutrition information possible for the given food image.\n",
    "\n",
    "    Instructions:\n",
    "    1. Carefully analyze the image, considering that it was taken 50 cm above the food item.\n",
    "    2. Identify all visible food items and ingredients.\n",
    "    3. Estimate the portion size of each item, taking into account the known distance from the camera.\n",
    "    4. Consider the preparation method (e.g., fried, grilled, raw) as it affects nutritional content.\n",
    "    5. Factor in any visible condiments, sauces, or dressings.\n",
    "    6. Use your expertise to estimate the most likely recipe or preparation method if not immediately apparent.\n",
    "    7. Calculate the total nutritional content based on your analysis, considering:\n",
    "       - Calories (kcal)\n",
    "       - Protein (g)\n",
    "       - Carbohydrates (g)\n",
    "       - Fat (g)\n",
    "    8. Round your estimates to the nearest whole number for simplicity.\n",
    "    9. If you're uncertain about any aspect, provide your best estimate and indicate the level of confidence.\n",
    "\n",
    "    Output your nutritional analysis in the following JSON format, ensuring all values are integers:\n",
    "    {\n",
    "        \"calories\": <calories>,\n",
    "        \"protein\": <protein>,\n",
    "        \"carbs\": <carbs>,\n",
    "        \"fat\": <fat>\n",
    "    }\n",
    "\n",
    "    Remember, accuracy is crucial. Use all available visual cues and your nutritional expertise to provide the most precise estimates possible.\n",
    "    \"\"\"\n",
    "    response = model.generate_content([sample_file, prompt])\n",
    "\n",
    "    return response.text"
   ]
  },
  {
   "cell_type": "code",
   "execution_count": 83,
   "metadata": {},
   "outputs": [],
   "source": [
    "def get_percent_error(image_path):    \n",
    "    actual_values = actual_data[image_path]\n",
    "    predicted_values = json.loads(get_nutrition_info(image_path))\n",
    "    \n",
    "    output = {}\n",
    "    for key in actual_values:\n",
    "        actual = actual_values[key]\n",
    "        predicted = predicted_values[key]\n",
    "        percent_error = abs((predicted - actual) / actual) * 100\n",
    "        output[key] = {\n",
    "            \"actual\": actual,\n",
    "            \"predicted\": predicted,\n",
    "            \"percent_error\": round(percent_error, 2)\n",
    "        }\n",
    "    \n",
    "    return output"
   ]
  },
  {
   "cell_type": "code",
   "execution_count": 84,
   "metadata": {},
   "outputs": [
    {
     "data": {
      "text/plain": [
       "{'calories': {'actual': 357.81, 'predicted': 450, 'percent_error': 25.77},\n",
       " 'protein': {'actual': 20.0, 'predicted': 20, 'percent_error': 0.0},\n",
       " 'carbs': {'actual': 20.96, 'predicted': 40, 'percent_error': 90.84},\n",
       " 'fat': {'actual': 21.69, 'predicted': 25, 'percent_error': 15.26}}"
      ]
     },
     "execution_count": 84,
     "metadata": {},
     "output_type": "execute_result"
    }
   ],
   "source": [
    "percent_error_1 = get_percent_error(\"images/1.png\")\n",
    "percent_error_1"
   ]
  },
  {
   "cell_type": "code",
   "execution_count": 85,
   "metadata": {},
   "outputs": [
    {
     "data": {
      "text/plain": [
       "{'calories': {'actual': 655.99, 'predicted': 770, 'percent_error': 17.38},\n",
       " 'protein': {'actual': 93.24, 'predicted': 75, 'percent_error': 19.56},\n",
       " 'carbs': {'actual': 23.34, 'predicted': 40, 'percent_error': 71.38},\n",
       " 'fat': {'actual': 20.22, 'predicted': 45, 'percent_error': 122.55}}"
      ]
     },
     "execution_count": 85,
     "metadata": {},
     "output_type": "execute_result"
    }
   ],
   "source": [
    "percent_error_2 = get_percent_error(\"images/2.png\")\n",
    "percent_error_2"
   ]
  },
  {
   "cell_type": "code",
   "execution_count": 86,
   "metadata": {},
   "outputs": [
    {
     "data": {
      "text/plain": [
       "{'calories': {'actual': 351.89, 'predicted': 370, 'percent_error': 5.15},\n",
       " 'protein': {'actual': 12.1, 'predicted': 10, 'percent_error': 17.36},\n",
       " 'carbs': {'actual': 57.5, 'predicted': 60, 'percent_error': 4.35},\n",
       " 'fat': {'actual': 9.77, 'predicted': 12, 'percent_error': 22.82}}"
      ]
     },
     "execution_count": 86,
     "metadata": {},
     "output_type": "execute_result"
    }
   ],
   "source": [
    "percent_error_3 = get_percent_error(\"images/3.png\")\n",
    "percent_error_3"
   ]
  },
  {
   "cell_type": "code",
   "execution_count": 89,
   "metadata": {},
   "outputs": [
    {
     "data": {
      "text/plain": [
       "{'calories': {'actual': 184.99, 'predicted': 400, 'percent_error': 116.23},\n",
       " 'protein': {'actual': 24.54, 'predicted': 35, 'percent_error': 42.62},\n",
       " 'carbs': {'actual': 8.9, 'predicted': 30, 'percent_error': 237.08},\n",
       " 'fat': {'actual': 6.14, 'predicted': 18, 'percent_error': 193.16}}"
      ]
     },
     "execution_count": 89,
     "metadata": {},
     "output_type": "execute_result"
    }
   ],
   "source": [
    "percent_error_4 = get_percent_error(\"images/4.png\")\n",
    "percent_error_4"
   ]
  },
  {
   "cell_type": "markdown",
   "metadata": {},
   "source": [
    "### Really bad for mixed food items ^^^"
   ]
  },
  {
   "cell_type": "code",
   "execution_count": 64,
   "metadata": {},
   "outputs": [
    {
     "name": "stdout",
     "output_type": "stream",
     "text": [
      "{\n",
      "        \"calories\": 700,\n",
      "        \"protein\": 40,\n",
      "        \"carbs\": 90,\n",
      "        \"fat\": 25\n",
      "    }\n",
      "\n"
     ]
    }
   ],
   "source": [
    "print(get_nutrition_info(\"images/5.jpeg\"))"
   ]
  },
  {
   "cell_type": "code",
   "execution_count": 67,
   "metadata": {},
   "outputs": [
    {
     "name": "stdout",
     "output_type": "stream",
     "text": [
      "{\n",
      "    \"calories\": 700,\n",
      "    \"protein\": 45,\n",
      "    \"carbs\": 80,\n",
      "    \"fat\": 25\n",
      "}\n",
      "\n"
     ]
    }
   ],
   "source": [
    "print(get_nutrition_info(\"images/6.jpeg\"))"
   ]
  },
  {
   "cell_type": "code",
   "execution_count": 68,
   "metadata": {},
   "outputs": [
    {
     "name": "stdout",
     "output_type": "stream",
     "text": [
      "{\n",
      "    \"calories\": 60,\n",
      "    \"protein\": 0,\n",
      "    \"carbs\": 15,\n",
      "    \"fat\": 0\n",
      "}\n",
      "\n"
     ]
    }
   ],
   "source": [
    "print(get_nutrition_info(\"images/7.jpeg\"))"
   ]
  }
 ],
 "metadata": {
  "kernelspec": {
   "display_name": "fithub-env",
   "language": "python",
   "name": "python3"
  },
  "language_info": {
   "codemirror_mode": {
    "name": "ipython",
    "version": 3
   },
   "file_extension": ".py",
   "mimetype": "text/x-python",
   "name": "python",
   "nbconvert_exporter": "python",
   "pygments_lexer": "ipython3",
   "version": "3.12.4"
  }
 },
 "nbformat": 4,
 "nbformat_minor": 2
}
