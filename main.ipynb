{
 "cells": [
  {
   "cell_type": "code",
   "execution_count": 1,
   "metadata": {},
   "outputs": [],
   "source": [
    "!pip install -q -U google-generativeai python-dotenv"
   ]
  },
  {
   "cell_type": "code",
   "execution_count": 1,
   "metadata": {},
   "outputs": [
    {
     "name": "stderr",
     "output_type": "stream",
     "text": [
      "/Users/pattssun/FitHub/fithub-env/lib/python3.12/site-packages/tqdm/auto.py:21: TqdmWarning: IProgress not found. Please update jupyter and ipywidgets. See https://ipywidgets.readthedocs.io/en/stable/user_install.html\n",
      "  from .autonotebook import tqdm as notebook_tqdm\n"
     ]
    }
   ],
   "source": [
    "import google.generativeai as genai\n",
    "from IPython.display import Markdown, Image\n",
    "import os, json\n",
    "from dotenv import load_dotenv\n",
    "\n",
    "load_dotenv()\n",
    "GOOGLE_API_KEY = os.getenv('GOOGLE_API_KEY')\n",
    "\n",
    "genai.configure(api_key=GOOGLE_API_KEY)"
   ]
  },
  {
   "cell_type": "code",
   "execution_count": 4,
   "metadata": {},
   "outputs": [],
   "source": [
    "actual_data = {\n",
    "    \"images/1.png\": {\n",
    "        \"calories\": 357.81,\n",
    "        \"protein\": 20.00,\n",
    "        \"carb\": 20.96,\n",
    "        \"fat\": 21.69\n",
    "    },\n",
    "    \"images/2.png\": {\n",
    "        \"calories\": 655.99,\n",
    "        \"protein\": 93.24,\n",
    "        \"carb\": 23.34,\n",
    "        \"fat\": 20.22\n",
    "    },\n",
    "    \"images/3.png\": {\n",
    "        \"calories\": 351.89,\n",
    "        \"protein\": 12.10,\n",
    "        \"carb\": 57.50,\n",
    "        \"fat\": 9.77\n",
    "    },\n",
    "    \"images/4.png\": {\n",
    "        \"calories\": 184.99,\n",
    "        \"protein\": 24.54,\n",
    "        \"carb\": 8.90,\n",
    "        \"fat\": 6.14\n",
    "    },\n",
    "    \"images/5.png\": {\n",
    "        \"calories\": 139.56,\n",
    "        \"protein\": 5.40,\n",
    "        \"carb\": 14.66,\n",
    "        \"fat\": 6.64\n",
    "    },\n",
    "    \"images/6.png\": {\n",
    "        \"calories\": 950.40,\n",
    "        \"protein\": 74.77,\n",
    "        \"carb\": 54.13,\n",
    "        \"fat\": 45.30\n",
    "    },\n",
    "    \"images/7.png\": {\n",
    "        \"calories\": 284.69,\n",
    "        \"protein\": 13.84,\n",
    "        \"carb\": 14.42,\n",
    "        \"fat\": 18.80\n",
    "    },\n",
    "    \"images/8.png\": {\n",
    "        \"calories\": 557.73,\n",
    "        \"protein\": 25.77,\n",
    "        \"carb\": 23.81,\n",
    "        \"fat\": 42.54\n",
    "    },\n",
    "    \"images/9.png\": {\n",
    "        \"calories\": 583.38,\n",
    "        \"protein\": 42.29,\n",
    "        \"carb\": 52.42,\n",
    "        \"fat\": 23.33\n",
    "    },\n",
    "    \"images/10.png\": {\n",
    "        \"calories\": 163.86,\n",
    "        \"protein\": 2.51,\n",
    "        \"carb\": 28.49,\n",
    "        \"fat\": 5.30\n",
    "    },\n",
    "    \"images/11.png\": {\n",
    "        \"calories\": 428.67,\n",
    "        \"protein\": 24.47,\n",
    "        \"carb\": 4.90,\n",
    "        \"fat\": 35.14\n",
    "    },\n",
    "    \"images/12.png\": {\n",
    "        \"calories\": 506.36,\n",
    "        \"protein\": 77.39,\n",
    "        \"carb\": 16.41,\n",
    "        \"fat\": 13.48\n",
    "    }\n",
    "}"
   ]
  },
  {
   "cell_type": "code",
   "execution_count": 7,
   "metadata": {},
   "outputs": [],
   "source": [
    "def get_nutrition_info(image_path):\n",
    "    # Upload the file\n",
    "    sample_file = genai.upload_file(path=image_path)\n",
    "\n",
    "    # Run Gemini model\n",
    "    model = genai.GenerativeModel(model_name=\"gemini-1.5-pro\")\n",
    "    prompt = \"\"\"\n",
    "    You are an expert nutritionist with extensive experience in visual food analysis and portion estimation. Your task is to provide the most accurate nutrition information possible for the given food image.\n",
    "\n",
    "    Instructions:\n",
    "    1. Carefully analyze the image, considering that it was taken 50 cm above the food item.\n",
    "    2. Identify all visible food items and ingredients in the image.\n",
    "    3. For each identified food item and ingredient, get the per gram calories and macronutrients (protein, carbohydrates, fat) based on data from the USDA Food and Nutrient Database. \n",
    "    4. Estimate the weight of each food item and ingredient in grams, taking into account the known distance from the camera and visual cues.\n",
    "    5. Calculate the final nutritional content by multiplying the per gram values from step 3 with the estimated weights from step 4.\n",
    "    6. Sum up the total nutritional content for all items.\n",
    "    4. Consider the preparation method (e.g., fried, grilled, raw) as it affects nutritional content.\n",
    "    5. Factor in any visible condiments, sauces, or dressings.\n",
    "    6. Use your expertise to estimate the most likely recipe or preparation method if not immediately apparent.\n",
    "    7. Round your final estimates to the nearest whole number for simplicity.\n",
    "    9. If you're uncertain about any aspect, provide your best estimate and indicate the level of confidence.\n",
    "\n",
    "    Output your nutritional analysis in the following JSON format, ensuring all values are integers:\n",
    "    {\n",
    "        \"calories\": <calories>,\n",
    "        \"protein\": <protein>,\n",
    "        \"carb\": <carb>,\n",
    "        \"fat\": <fat>\n",
    "    }\n",
    "    Do not output anything else.\n",
    "\n",
    "    Remember, accuracy is crucial. Use all available visual cues and your nutritional expertise to provide the most precise estimates possible.\n",
    "    \"\"\"\n",
    "    response = model.generate_content([sample_file, prompt])\n",
    "\n",
    "    return response.text"
   ]
  },
  {
   "cell_type": "code",
   "execution_count": 8,
   "metadata": {},
   "outputs": [],
   "source": [
    "def get_percent_error(image_path):    \n",
    "    actual_values = actual_data[image_path]\n",
    "    predicted_values = json.loads(get_nutrition_info(image_path))\n",
    "    \n",
    "    output = {}\n",
    "    for key in actual_values:\n",
    "        actual = actual_values[key]\n",
    "        predicted = predicted_values[key]\n",
    "        percent_error = abs((predicted - actual) / actual) * 100\n",
    "        output[key] = {\n",
    "            \"actual\": actual,\n",
    "            \"predicted\": predicted,\n",
    "            \"percent_error\": round(percent_error, 2)\n",
    "        }\n",
    "    \n",
    "    return output"
   ]
  },
  {
   "cell_type": "code",
   "execution_count": 9,
   "metadata": {},
   "outputs": [
    {
     "name": "stderr",
     "output_type": "stream",
     "text": [
      "WARNING: All log messages before absl::InitializeLog() is called are written to STDERR\n",
      "I0000 00:00:1722477139.802587 6997231 config.cc:230] gRPC experiments enabled: call_status_override_on_cancellation, event_engine_dns, event_engine_listener, http2_stats_fix, monitoring_experiment, pick_first_new, trace_record_callops, work_serializer_clears_time_cache\n",
      "I0000 00:00:1722477139.838279 6997231 check_gcp_environment_no_op.cc:29] ALTS: Platforms other than Linux and Windows are not supported\n",
      "I0000 00:00:1722477142.447073 6997231 check_gcp_environment_no_op.cc:29] ALTS: Platforms other than Linux and Windows are not supported\n"
     ]
    },
    {
     "data": {
      "text/plain": [
       "{'calories': {'actual': 357.81, 'predicted': 500, 'percent_error': 39.74},\n",
       " 'protein': {'actual': 20.0, 'predicted': 28, 'percent_error': 40.0},\n",
       " 'carb': {'actual': 20.96, 'predicted': 46, 'percent_error': 119.47},\n",
       " 'fat': {'actual': 21.69, 'predicted': 28, 'percent_error': 29.09}}"
      ]
     },
     "execution_count": 9,
     "metadata": {},
     "output_type": "execute_result"
    }
   ],
   "source": [
    "percent_error_1 = get_percent_error(\"images/1.png\")\n",
    "percent_error_1"
   ]
  },
  {
   "cell_type": "code",
   "execution_count": 10,
   "metadata": {},
   "outputs": [
    {
     "data": {
      "text/plain": [
       "{'calories': {'actual': 655.99, 'predicted': 608, 'percent_error': 7.32},\n",
       " 'protein': {'actual': 93.24, 'predicted': 63, 'percent_error': 32.43},\n",
       " 'carb': {'actual': 23.34, 'predicted': 32, 'percent_error': 37.1},\n",
       " 'fat': {'actual': 20.22, 'predicted': 33, 'percent_error': 63.2}}"
      ]
     },
     "execution_count": 10,
     "metadata": {},
     "output_type": "execute_result"
    }
   ],
   "source": [
    "percent_error_2 = get_percent_error(\"images/2.png\")\n",
    "percent_error_2"
   ]
  },
  {
   "cell_type": "code",
   "execution_count": 11,
   "metadata": {},
   "outputs": [
    {
     "data": {
      "text/plain": [
       "{'calories': {'actual': 351.89, 'predicted': 340, 'percent_error': 3.38},\n",
       " 'protein': {'actual': 12.1, 'predicted': 8, 'percent_error': 33.88},\n",
       " 'carb': {'actual': 57.5, 'predicted': 60, 'percent_error': 4.35},\n",
       " 'fat': {'actual': 9.77, 'predicted': 10, 'percent_error': 2.35}}"
      ]
     },
     "execution_count": 11,
     "metadata": {},
     "output_type": "execute_result"
    }
   ],
   "source": [
    "percent_error_3 = get_percent_error(\"images/3.png\")\n",
    "percent_error_3"
   ]
  },
  {
   "cell_type": "code",
   "execution_count": 13,
   "metadata": {},
   "outputs": [
    {
     "data": {
      "text/plain": [
       "{'calories': {'actual': 184.99, 'predicted': 367, 'percent_error': 98.39},\n",
       " 'protein': {'actual': 24.54, 'predicted': 33, 'percent_error': 34.47},\n",
       " 'carb': {'actual': 8.9, 'predicted': 28, 'percent_error': 214.61},\n",
       " 'fat': {'actual': 6.14, 'predicted': 18, 'percent_error': 193.16}}"
      ]
     },
     "execution_count": 13,
     "metadata": {},
     "output_type": "execute_result"
    }
   ],
   "source": [
    "percent_error_4 = get_percent_error(\"images/4.png\")\n",
    "percent_error_4"
   ]
  },
  {
   "cell_type": "code",
   "execution_count": 14,
   "metadata": {},
   "outputs": [
    {
     "data": {
      "text/plain": [
       "{'calories': {'actual': 139.56, 'predicted': 300, 'percent_error': 114.96},\n",
       " 'protein': {'actual': 5.4, 'predicted': 8, 'percent_error': 48.15},\n",
       " 'carb': {'actual': 14.66, 'predicted': 36, 'percent_error': 145.57},\n",
       " 'fat': {'actual': 6.64, 'predicted': 14, 'percent_error': 110.84}}"
      ]
     },
     "execution_count": 14,
     "metadata": {},
     "output_type": "execute_result"
    }
   ],
   "source": [
    "percent_error_5 = get_percent_error(\"images/5.png\")\n",
    "percent_error_5"
   ]
  },
  {
   "cell_type": "code",
   "execution_count": 15,
   "metadata": {},
   "outputs": [
    {
     "data": {
      "text/plain": [
       "{'calories': {'actual': 950.4, 'predicted': 640, 'percent_error': 32.66},\n",
       " 'protein': {'actual': 74.77, 'predicted': 35, 'percent_error': 53.19},\n",
       " 'carb': {'actual': 54.13, 'predicted': 90, 'percent_error': 66.27},\n",
       " 'fat': {'actual': 45.3, 'predicted': 20, 'percent_error': 55.85}}"
      ]
     },
     "execution_count": 15,
     "metadata": {},
     "output_type": "execute_result"
    }
   ],
   "source": [
    "percent_error_6 = get_percent_error(\"images/6.png\")\n",
    "percent_error_6"
   ]
  },
  {
   "cell_type": "code",
   "execution_count": 16,
   "metadata": {},
   "outputs": [
    {
     "data": {
      "text/plain": [
       "{'calories': {'actual': 284.69, 'predicted': 415, 'percent_error': 45.77},\n",
       " 'protein': {'actual': 13.84, 'predicted': 20, 'percent_error': 44.51},\n",
       " 'carb': {'actual': 14.42, 'predicted': 30, 'percent_error': 108.04},\n",
       " 'fat': {'actual': 18.8, 'predicted': 25, 'percent_error': 32.98}}"
      ]
     },
     "execution_count": 16,
     "metadata": {},
     "output_type": "execute_result"
    }
   ],
   "source": [
    "percent_error_7 = get_percent_error(\"images/7.png\")\n",
    "percent_error_7"
   ]
  },
  {
   "cell_type": "code",
   "execution_count": 17,
   "metadata": {},
   "outputs": [
    {
     "data": {
      "text/plain": [
       "{'calories': {'actual': 557.73, 'predicted': 495, 'percent_error': 11.25},\n",
       " 'protein': {'actual': 25.77, 'predicted': 18, 'percent_error': 30.15},\n",
       " 'carb': {'actual': 23.81, 'predicted': 35, 'percent_error': 47.0},\n",
       " 'fat': {'actual': 42.54, 'predicted': 34, 'percent_error': 20.08}}"
      ]
     },
     "execution_count": 17,
     "metadata": {},
     "output_type": "execute_result"
    }
   ],
   "source": [
    "percent_error_8 = get_percent_error(\"images/8.png\")\n",
    "percent_error_8\n"
   ]
  },
  {
   "cell_type": "code",
   "execution_count": 18,
   "metadata": {},
   "outputs": [
    {
     "data": {
      "text/plain": [
       "{'calories': {'actual': 583.38, 'predicted': 730, 'percent_error': 25.13},\n",
       " 'protein': {'actual': 42.29, 'predicted': 50, 'percent_error': 18.23},\n",
       " 'carb': {'actual': 52.42, 'predicted': 90, 'percent_error': 71.69},\n",
       " 'fat': {'actual': 23.33, 'predicted': 35, 'percent_error': 50.02}}"
      ]
     },
     "execution_count": 18,
     "metadata": {},
     "output_type": "execute_result"
    }
   ],
   "source": [
    "percent_error_9 = get_percent_error(\"images/9.png\")\n",
    "percent_error_9"
   ]
  },
  {
   "cell_type": "code",
   "execution_count": 19,
   "metadata": {},
   "outputs": [
    {
     "data": {
      "text/plain": [
       "{'calories': {'actual': 163.86, 'predicted': 347, 'percent_error': 111.77},\n",
       " 'protein': {'actual': 2.51, 'predicted': 11, 'percent_error': 338.25},\n",
       " 'carb': {'actual': 28.49, 'predicted': 61, 'percent_error': 114.11},\n",
       " 'fat': {'actual': 5.3, 'predicted': 8, 'percent_error': 50.94}}"
      ]
     },
     "execution_count": 19,
     "metadata": {},
     "output_type": "execute_result"
    }
   ],
   "source": [
    "percent_error_10 = get_percent_error(\"images/10.png\")\n",
    "percent_error_10"
   ]
  },
  {
   "cell_type": "code",
   "execution_count": 23,
   "metadata": {},
   "outputs": [
    {
     "data": {
      "text/plain": [
       "{'calories': {'actual': 428.67, 'predicted': 408, 'percent_error': 4.82},\n",
       " 'protein': {'actual': 24.47, 'predicted': 36, 'percent_error': 47.12},\n",
       " 'carb': {'actual': 4.9, 'predicted': 21, 'percent_error': 328.57},\n",
       " 'fat': {'actual': 35.14, 'predicted': 21, 'percent_error': 40.24}}"
      ]
     },
     "execution_count": 23,
     "metadata": {},
     "output_type": "execute_result"
    }
   ],
   "source": [
    "percent_error_11 = get_percent_error(\"images/11.png\")\n",
    "percent_error_11"
   ]
  },
  {
   "cell_type": "code",
   "execution_count": 24,
   "metadata": {},
   "outputs": [
    {
     "data": {
      "text/plain": [
       "{'calories': {'actual': 506.36, 'predicted': 436, 'percent_error': 13.9},\n",
       " 'protein': {'actual': 77.39, 'predicted': 39, 'percent_error': 49.61},\n",
       " 'carb': {'actual': 16.41, 'predicted': 27, 'percent_error': 64.53},\n",
       " 'fat': {'actual': 13.48, 'predicted': 24, 'percent_error': 78.04}}"
      ]
     },
     "execution_count": 24,
     "metadata": {},
     "output_type": "execute_result"
    }
   ],
   "source": [
    "percent_error_12 = get_percent_error(\"images/12.png\")\n",
    "percent_error_12"
   ]
  }
 ],
 "metadata": {
  "kernelspec": {
   "display_name": "fithub-env",
   "language": "python",
   "name": "python3"
  },
  "language_info": {
   "codemirror_mode": {
    "name": "ipython",
    "version": 3
   },
   "file_extension": ".py",
   "mimetype": "text/x-python",
   "name": "python",
   "nbconvert_exporter": "python",
   "pygments_lexer": "ipython3",
   "version": "3.12.4"
  }
 },
 "nbformat": 4,
 "nbformat_minor": 2
}
